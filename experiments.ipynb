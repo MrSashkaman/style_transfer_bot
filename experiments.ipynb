{
 "cells": [
  {
   "cell_type": "code",
   "execution_count": 1,
   "id": "a3ab0b0b-1493-4840-a255-eeb91cee4fa6",
   "metadata": {},
   "outputs": [],
   "source": [
    "import telebot\n",
    "from telegram import Update as update\n",
    "import os\n",
    "from model import transfer_model\n",
    "import os.path\n",
    "import gc"
   ]
  },
  {
   "cell_type": "code",
   "execution_count": null,
   "id": "241c1434-8d43-44f3-b757-64246233abc9",
   "metadata": {},
   "outputs": [],
   "source": [
    "with open(\"bot_token.txt\") as f:\n",
    "    TOKEN = f.read()"
   ]
  },
  {
   "cell_type": "code",
   "execution_count": null,
   "id": "c0001afc-6bd3-4082-815c-acea0282b56b",
   "metadata": {},
   "outputs": [],
   "source": [
    "bot = telebot.TeleBot(TOKEN, parse_mode=None) # You can set parse_mode by default. HTML or MARKDOWN\n",
    "\n",
    "@bot.message_handler(commands=['start', 'help'])\n",
    "def send_welcome(message):\n",
    "    bot.reply_to(message, \"Этот бот берет две фотографии и применяет стиль одной к другой. \\\n",
    "        Чтобы получить результат отправьте сначала фотографию, которую хотите изменить,\\\n",
    "             а затем фотографию, стиль которой хотите применить к первой\")\n",
    "\n",
    "@bot.message_handler(content_types=['text'])\n",
    "def send_instruction(message):\n",
    "    bot.reply_to(message, \"Отправьте по очереди сначала фотографию, которую хотите изменить,\\\n",
    "                        а затем фотографию, стиль которой вы хотите применить к первой\")\n",
    "\n",
    "\n",
    "@bot.message_handler(content_types=['photo'])\n",
    "def load_img_and_run(message):\n",
    "    \n",
    "    os.makedirs('images/created', exist_ok=True)\n",
    "    os.makedirs('images/original', exist_ok=True)\n",
    "    os.makedirs('images/style', exist_ok=True)\n",
    "    \n",
    "    path_img = 'images/original/img.png'\n",
    "    path_style = 'images/style/style.png'\n",
    "    path_pics = 'images/created/'\n",
    "    \n",
    "    if os.path.exists(path_img) == False:\n",
    "    \n",
    "        file_info_img = bot.get_file(message.photo[-1].file_id)\n",
    "        downloaded_file_img = bot.download_file(file_info_img.file_path)\n",
    "       \n",
    "        \n",
    "        with open(path_img, 'wb') as new_file:\n",
    "            new_file.write(downloaded_file_img)\n",
    "\n",
    "        bot.reply_to(message, \"Добавлено фото для редактирования\")\n",
    "               \n",
    "    elif os.path.exists(path_img) and os.path.exists(path_style) == False:\n",
    "        \n",
    "        file_info_style = bot.get_file(message.photo[-1].file_id)\n",
    "        downloaded_file_style = bot.download_file(file_info_style.file_path)\n",
    "        src_style = path_style\n",
    "        \n",
    "        with open(path_style, 'wb') as new_file:\n",
    "            new_file.write(downloaded_file_style)\n",
    "\n",
    "        bot.reply_to(message, \"Добавлено фото стиля\")\n",
    "             \n",
    "        print('OK0')\n",
    "        \n",
    "        tf_model = transfer_model(num_steps=200,\n",
    "                    style_weight=100000,\n",
    "                    learning_rate=1,\n",
    "                   step_checkpoint=10)\n",
    "        tf_model.run_style_transfer()\n",
    "        del tf_model\n",
    "\n",
    "        gc.collect()\n",
    "        print('OK1')\n",
    "        img = open('images/created/result_final.jpg', 'rb')\n",
    "        print('OK2')\n",
    "        bot.send_photo(message.chat.id, img)\n",
    "        \n",
    "        os.remove(path_img)\n",
    "        os.remove(path_style)\n",
    "\n",
    "    \n",
    "    # bot.reply_to(message, \"Фото добавлено\")\n",
    "\n",
    "bot.infinity_polling()"
   ]
  }
 ],
 "metadata": {
  "kernelspec": {
   "display_name": "Python 3 (ipykernel)",
   "language": "python",
   "name": "python3"
  },
  "language_info": {
   "codemirror_mode": {
    "name": "ipython",
    "version": 3
   },
   "file_extension": ".py",
   "mimetype": "text/x-python",
   "name": "python",
   "nbconvert_exporter": "python",
   "pygments_lexer": "ipython3",
   "version": "3.8.12"
  }
 },
 "nbformat": 4,
 "nbformat_minor": 5
}
